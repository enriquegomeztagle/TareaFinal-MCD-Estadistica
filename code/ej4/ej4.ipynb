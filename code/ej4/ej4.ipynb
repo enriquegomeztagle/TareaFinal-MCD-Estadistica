{
 "cells": [
  {
   "cell_type": "code",
   "execution_count": 6,
   "id": "d8322b53",
   "metadata": {},
   "outputs": [],
   "source": [
    "import math\n",
    "from scipy import stats"
   ]
  },
  {
   "cell_type": "code",
   "execution_count": 7,
   "id": "3b0f5cdb",
   "metadata": {},
   "outputs": [],
   "source": [
    "# 1. Sample information\n",
    "n   = 100           # sample size\n",
    "x   = 10            # broken chocolates observed\n",
    "p̂   = x / n        # sample proportion (0.10)"
   ]
  },
  {
   "cell_type": "code",
   "execution_count": 8,
   "id": "2bb8a4e0",
   "metadata": {},
   "outputs": [],
   "source": [
    "# a) 95 % Confidence Interval for p\n",
    "z_95   = stats.norm.ppf(0.975)                           # two‑tailed critical value (≈1.96)\n",
    "se_p̂  = math.sqrt(p̂ * (1 - p̂) / n)                    # standard error\n",
    "margin = z_95 * se_p̂\n",
    "ci_95  = (p̂ - margin, p̂ + margin)"
   ]
  },
  {
   "cell_type": "code",
   "execution_count": 9,
   "id": "2a0c5216",
   "metadata": {},
   "outputs": [],
   "source": [
    "# b) One‑sided test (α = 0.05)\n",
    "#     H0: p ≤ 0.05       vs.      H1: p > 0.05\n",
    "# ----------------------------\n",
    "p0      = 0.05\n",
    "se_H0   = math.sqrt(p0 * (1 - p0) / n)\n",
    "z_stat  = (p̂ - p0) / se_H0\n",
    "p_value = 1 - stats.norm.cdf(z_stat)                     # upper‑tail probability\n",
    "reject  = p_value < 0.05"
   ]
  },
  {
   "cell_type": "code",
   "execution_count": 10,
   "id": "95176d91",
   "metadata": {},
   "outputs": [],
   "source": [
    "# c) Manager's recommendation\n",
    "recommendation = (\n",
    "    \"RETURN the lot (evidence of >5% defective)\"\n",
    "    if reject else\n",
    "    \"ACCEPT the lot (no evidence of >5% defective)\"\n",
    ")"
   ]
  },
  {
   "cell_type": "code",
   "execution_count": 13,
   "id": "dacfbeb9",
   "metadata": {},
   "outputs": [
    {
     "name": "stdout",
     "output_type": "stream",
     "text": [
      "Sample proportion (p̂): 0.100\n",
      "a) 95% CI for true proportion p: [0.041, 0.159]\n",
      "\n",
      "b) Hypothesis Test (H0: p ≤ 0.05, H1: p > 0.05)\n",
      "z-statistic = 2.294\n",
      "p-value     = 0.0109\n",
      "Decision    : Reject H0\n",
      "\n",
      "----------------------------------------------\n",
      "c) Manager's recommendation: RETURN the lot (evidence of >5% defective)\n"
     ]
    }
   ],
   "source": [
    "# Results\n",
    "print(f\"Sample proportion (p̂): {p̂:.3f}\")\n",
    "print(\"a) 95% CI for true proportion p: \"\n",
    "      f\"[{ci_95[0]:.3f}, {ci_95[1]:.3f}]\")\n",
    "\n",
    "print(\"\\nb) Hypothesis Test (H0: p ≤ 0.05, H1: p > 0.05)\")\n",
    "print(f\"z-statistic = {z_stat:.3f}\")\n",
    "print(f\"p-value     = {p_value:.4f}\")\n",
    "print(f\"Decision    : {'Reject H0' if reject else 'Fail to reject H0'}\")\n",
    "\n",
    "print(\"\\n\" + \"-\"*46)\n",
    "print(\"c) Manager's recommendation:\", recommendation)"
   ]
  },
  {
   "cell_type": "code",
   "execution_count": null,
   "id": "34cd0ba2",
   "metadata": {},
   "outputs": [],
   "source": []
  }
 ],
 "metadata": {
  "kernelspec": {
   "display_name": "stats",
   "language": "python",
   "name": "python3"
  },
  "language_info": {
   "codemirror_mode": {
    "name": "ipython",
    "version": 3
   },
   "file_extension": ".py",
   "mimetype": "text/x-python",
   "name": "python",
   "nbconvert_exporter": "python",
   "pygments_lexer": "ipython3",
   "version": "3.11.11"
  }
 },
 "nbformat": 4,
 "nbformat_minor": 5
}
