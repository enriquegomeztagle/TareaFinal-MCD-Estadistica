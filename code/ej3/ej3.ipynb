{
 "cells": [
  {
   "cell_type": "code",
   "execution_count": 14,
   "id": "843f9b47",
   "metadata": {},
   "outputs": [],
   "source": [
    "import math\n",
    "import statistics\n",
    "from scipy import stats"
   ]
  },
  {
   "cell_type": "code",
   "execution_count": 15,
   "id": "3492f1fb",
   "metadata": {},
   "outputs": [],
   "source": [
    "# Recovery time data (in days)\n",
    "data = [10, 10, 7, 12, 5, 7, 2, 1, 7, 2]\n",
    "n = len(data)\n",
    "mean = statistics.mean(data)\n",
    "sd = statistics.stdev(data)  \n",
    "# sample standard deviation (n-1)"
   ]
  },
  {
   "cell_type": "code",
   "execution_count": 16,
   "id": "4a7d1bf4",
   "metadata": {},
   "outputs": [],
   "source": [
    "# a) 95% Confidence Interval for the mean\n",
    "df = n - 1\n",
    "t_crit = stats.t.ppf(0.975, df)  # two-tailed for 95% CI\n",
    "moe = t_crit * sd / math.sqrt(n)\n",
    "conf_int_mean = (mean - moe, mean + moe)"
   ]
  },
  {
   "cell_type": "code",
   "execution_count": 17,
   "id": "8643eb48",
   "metadata": {},
   "outputs": [],
   "source": [
    "# b) 98% Confidence Interval for standard deviation\n",
    "alpha = 0.02\n",
    "chi2_lower = stats.chi2.ppf(alpha / 2, df)\n",
    "chi2_upper = stats.chi2.ppf(1 - alpha / 2, df)"
   ]
  },
  {
   "cell_type": "code",
   "execution_count": 18,
   "id": "2066a651",
   "metadata": {},
   "outputs": [],
   "source": [
    "# Convert CI for variance into CI for std. deviation\n",
    "var_lower = (df * sd**2) / chi2_upper\n",
    "var_upper = (df * sd**2) / chi2_lower\n",
    "sd_lower = math.sqrt(var_lower)\n",
    "sd_upper = math.sqrt(var_upper)\n",
    "conf_int_sd = (sd_lower, sd_upper)"
   ]
  },
  {
   "cell_type": "code",
   "execution_count": 19,
   "id": "03c51b2b",
   "metadata": {},
   "outputs": [],
   "source": [
    "# c) Required sample size for margin ≤ 3 days with 90% confidence\n",
    "z = stats.norm.ppf(0.95)  # one-tailed z for 90% confidence\n",
    "margin = 3\n",
    "n_required = (z * sd / margin) ** 2\n",
    "n_required_ceiled = math.ceil(n_required)"
   ]
  },
  {
   "cell_type": "code",
   "execution_count": 20,
   "id": "6b514dcc",
   "metadata": {},
   "outputs": [
    {
     "name": "stdout",
     "output_type": "stream",
     "text": [
      "Sample mean: 6.30\n",
      "Sample standard deviation: 3.773\n",
      "\n",
      "a) 95% CI for the mean: (np.float64(3.6011665497996797), np.float64(8.998833450200319))\n",
      "\n",
      "b) 98% CI for the standard deviation: (2.4315614656885427, 7.832846958515864)\n",
      "The drug should NOT be released — σ > 2\n",
      "\n",
      "c) Required sample size: 4.28 -> round up to 5\n"
     ]
    }
   ],
   "source": [
    "# Results\n",
    "print(f\"Sample mean: {mean:.2f}\")\n",
    "print(f\"Sample standard deviation: {sd:.3f}\")\n",
    "print(f\"\\na) 95% CI for the mean: {conf_int_mean}\")\n",
    "print(f\"\\nb) 98% CI for the standard deviation: {conf_int_sd}\")\n",
    "\n",
    "if sd_lower > 2:\n",
    "    print(\"The drug should NOT be released — σ > 2\")\n",
    "else:\n",
    "    print(\"The drug MAY be released — σ ≤ 2\")\n",
    "\n",
    "print(f\"\\nc) Required sample size: {n_required:.2f} -> round up to {n_required_ceiled}\")"
   ]
  },
  {
   "cell_type": "code",
   "execution_count": null,
   "id": "1265f5a5",
   "metadata": {},
   "outputs": [],
   "source": []
  }
 ],
 "metadata": {
  "kernelspec": {
   "display_name": "stats",
   "language": "python",
   "name": "python3"
  },
  "language_info": {
   "codemirror_mode": {
    "name": "ipython",
    "version": 3
   },
   "file_extension": ".py",
   "mimetype": "text/x-python",
   "name": "python",
   "nbconvert_exporter": "python",
   "pygments_lexer": "ipython3",
   "version": "3.11.11"
  }
 },
 "nbformat": 4,
 "nbformat_minor": 5
}
