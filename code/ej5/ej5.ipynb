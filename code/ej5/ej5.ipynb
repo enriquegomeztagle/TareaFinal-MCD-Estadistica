{
 "cells": [
  {
   "cell_type": "code",
   "execution_count": 1,
   "id": "9a21615e",
   "metadata": {},
   "outputs": [],
   "source": [
    "import math, statistics\n",
    "from scipy import stats"
   ]
  },
  {
   "cell_type": "code",
   "execution_count": null,
   "id": "568211a9",
   "metadata": {},
   "outputs": [],
   "source": [
    "# Data\n",
    "data = [1.5, 1.6, 1.5, 1.4, 1.9, 1.4, 1.3, 1.9, 1.8, 1.7]\n",
    "n   = len(data)\n",
    "x̄  = statistics.mean(data)\n",
    "s   = statistics.stdev(data)          # sample sd (n‑1)"
   ]
  },
  {
   "cell_type": "code",
   "execution_count": 3,
   "id": "b8e1b396",
   "metadata": {},
   "outputs": [],
   "source": [
    "# One‑sided t‑test (H0: μ = 1.4, H1: μ > 1.4)\n",
    "mu0 = 1.4\n",
    "df  = n - 1\n",
    "t_obs = (x̄ - mu0) / (s / math.sqrt(n))\n",
    "p_val = 1 - stats.t.cdf(t_obs, df)\n",
    "t_crit = stats.t.ppf(0.99, df)"
   ]
  },
  {
   "cell_type": "code",
   "execution_count": 5,
   "id": "9e967ff9",
   "metadata": {},
   "outputs": [
    {
     "name": "stdout",
     "output_type": "stream",
     "text": [
      "Sample mean: 1.60 L\n",
      "Sample SD  : 0.216 L\n",
      "t-statistic: 2.928\n",
      "Critical t : 2.821\n",
      "p-value    : 0.0084\n",
      "Decision   : Reject H0\n"
     ]
    }
   ],
   "source": [
    "print(f\"Sample mean: {x̄:.2f} L\")\n",
    "print(f\"Sample SD  : {s:.3f} L\")\n",
    "print(f\"t-statistic: {t_obs:.3f}\")\n",
    "print(f\"Critical t : {t_crit:.3f}\")\n",
    "print(f\"p-value    : {p_val:.4f}\")\n",
    "print(\"Decision   :\", \"Reject H0\" if p_val < 0.01 else \"Fail to reject H0\")"
   ]
  },
  {
   "cell_type": "code",
   "execution_count": null,
   "id": "b13d9978",
   "metadata": {},
   "outputs": [],
   "source": []
  }
 ],
 "metadata": {
  "kernelspec": {
   "display_name": "stats",
   "language": "python",
   "name": "python3"
  },
  "language_info": {
   "codemirror_mode": {
    "name": "ipython",
    "version": 3
   },
   "file_extension": ".py",
   "mimetype": "text/x-python",
   "name": "python",
   "nbconvert_exporter": "python",
   "pygments_lexer": "ipython3",
   "version": "3.11.11"
  }
 },
 "nbformat": 4,
 "nbformat_minor": 5
}
