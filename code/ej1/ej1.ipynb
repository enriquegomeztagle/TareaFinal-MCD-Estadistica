{
 "cells": [
  {
   "cell_type": "code",
   "execution_count": 1,
   "id": "7262b53a",
   "metadata": {},
   "outputs": [],
   "source": [
    "# ------------------- analytical part -------------------\n",
    "import sympy as sp\n",
    "mu, sigma2 = sp.symbols('mu sigma2', positive=True)\n",
    "sigma = sp.sqrt(sigma2)"
   ]
  },
  {
   "cell_type": "code",
   "execution_count": 3,
   "id": "caeb7c2c",
   "metadata": {},
   "outputs": [],
   "source": [
    "# E[A1] and E[A2] (Normal assumption)\n",
    "E_A1 = mu**2 + sigma2/2\n",
    "E_A2 = mu**2 + sigma2"
   ]
  },
  {
   "cell_type": "code",
   "execution_count": 4,
   "id": "af43f6a8",
   "metadata": {},
   "outputs": [
    {
     "name": "stdout",
     "output_type": "stream",
     "text": [
      "E[A1] = mu**2 + sigma2/2\n",
      "E[A2] = mu**2 + sigma2\n",
      "Bias A1 = sigma2/2\n",
      "Bias A2 = sigma2\n"
     ]
    }
   ],
   "source": [
    "print(\"E[A1] =\", sp.simplify(E_A1))\n",
    "print(\"E[A2] =\", sp.simplify(E_A2))\n",
    "print(\"Bias A1 =\", sp.simplify(E_A1 - mu**2))\n",
    "print(\"Bias A2 =\", sp.simplify(E_A2 - mu**2))"
   ]
  },
  {
   "cell_type": "code",
   "execution_count": null,
   "id": "f530c9ba",
   "metadata": {},
   "outputs": [],
   "source": [
    "import numpy as np\n",
    "\n",
    "# Parameters\n",
    "mu = 10.0\n",
    "sigma2 = 4.0\n",
    "sigma = np.sqrt(sigma2)\n",
    "N = 1_000_000"
   ]
  },
  {
   "cell_type": "code",
   "execution_count": 10,
   "id": "44e299d1",
   "metadata": {},
   "outputs": [],
   "source": [
    "# Simulation\n",
    "x1 = np.random.normal(mu, sigma, N)\n",
    "x2 = np.random.normal(mu, sigma, N)"
   ]
  },
  {
   "cell_type": "code",
   "execution_count": 11,
   "id": "83e4538b",
   "metadata": {},
   "outputs": [],
   "source": [
    "A1 = ((x1 + x2) / 2) ** 2\n",
    "A2 = (x1**2 + x2**2) / 2"
   ]
  },
  {
   "cell_type": "code",
   "execution_count": 12,
   "id": "d77e115c",
   "metadata": {},
   "outputs": [],
   "source": [
    "# Bias\n",
    "mean_A1 = A1.mean()\n",
    "mean_A2 = A2.mean()\n",
    "bias_A1 = mean_A1 - mu**2\n",
    "bias_A2 = mean_A2 - mu**2"
   ]
  },
  {
   "cell_type": "code",
   "execution_count": 13,
   "id": "e8c9f3d9",
   "metadata": {},
   "outputs": [
    {
     "name": "stdout",
     "output_type": "stream",
     "text": [
      "mean(A1) = 101.9986   bias ≈ 1.9986\n",
      "mean(A2) = 103.9987   bias ≈ 3.9987\n"
     ]
    }
   ],
   "source": [
    "print(f\"mean(A1) = {mean_A1:.4f}   bias ≈ {bias_A1:.4f}\")\n",
    "print(f\"mean(A2) = {mean_A2:.4f}   bias ≈ {bias_A2:.4f}\")"
   ]
  },
  {
   "cell_type": "code",
   "execution_count": null,
   "id": "4eb0d6b3",
   "metadata": {},
   "outputs": [
    {
     "name": "stdout",
     "output_type": "stream",
     "text": [
      "\n",
      "Bias difference (|bias A1| - |bias A2|): -2.0002\n",
      "→ Estimator A1 has lower bias and is better.\n"
     ]
    }
   ],
   "source": [
    "# Bias comparison\n",
    "bias_diff = abs(bias_A1) - abs(bias_A2)\n",
    "print(f\"\\nBias difference (|bias A1| - |bias A2|): {bias_diff:.4f}\")\n",
    "\n",
    "if abs(bias_A1) < abs(bias_A2):\n",
    "    print(\"→ Estimator A1 has lower bias and is better.\")\n",
    "elif abs(bias_A2) < abs(bias_A1):\n",
    "    print(\"→ Estimator A2 has lower bias and is better.\")\n",
    "else:\n",
    "    print(\"→ Both estimators have the same absolute bias.\")"
   ]
  },
  {
   "cell_type": "code",
   "execution_count": 15,
   "id": "8141b5ef",
   "metadata": {},
   "outputs": [
    {
     "name": "stdout",
     "output_type": "stream",
     "text": [
      "\n",
      "Theoretical:\n",
      "E[A1] = 102.0000\n",
      "E[A2] = 104.0000\n"
     ]
    }
   ],
   "source": [
    "# Theoretical expectations\n",
    "print(\"\\nTheoretical:\")\n",
    "print(f\"E[A1] = {mu**2 + sigma2 / 2:.4f}\")\n",
    "print(f\"E[A2] = {mu**2 + sigma2:.4f}\")"
   ]
  },
  {
   "cell_type": "code",
   "execution_count": null,
   "id": "181c9a29",
   "metadata": {},
   "outputs": [],
   "source": []
  }
 ],
 "metadata": {
  "kernelspec": {
   "display_name": "Python 3",
   "language": "python",
   "name": "python3"
  },
  "language_info": {
   "codemirror_mode": {
    "name": "ipython",
    "version": 3
   },
   "file_extension": ".py",
   "mimetype": "text/x-python",
   "name": "python",
   "nbconvert_exporter": "python",
   "pygments_lexer": "ipython3",
   "version": "3.11.11"
  }
 },
 "nbformat": 4,
 "nbformat_minor": 5
}
