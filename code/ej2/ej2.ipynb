{
 "cells": [
  {
   "cell_type": "code",
   "execution_count": 2,
   "id": "65393e34",
   "metadata": {},
   "outputs": [],
   "source": [
    "import itertools\n",
    "from collections import Counter\n",
    "import pandas as pd"
   ]
  },
  {
   "cell_type": "code",
   "execution_count": 3,
   "id": "25a1ec32",
   "metadata": {},
   "outputs": [],
   "source": [
    "# 1. Define the bills in the wallet (two $50s, six $200s, and four $500s)\n",
    "bills = [50] * 2 + [200] * 6 + [500] * 4\n",
    "# 12 bills in total"
   ]
  },
  {
   "cell_type": "code",
   "execution_count": 4,
   "id": "96fc648f",
   "metadata": {},
   "outputs": [],
   "source": [
    "# 2. Generate all possible combinations of size 2 (order doesn't matter)\n",
    "sample_pairs = list(itertools.combinations(bills, 2))"
   ]
  },
  {
   "cell_type": "code",
   "execution_count": 5,
   "id": "156ee909",
   "metadata": {},
   "outputs": [],
   "source": [
    "# 3. Calculate the sum of each pair -> random variable T\n",
    "totals = [sum(pair) for pair in sample_pairs]"
   ]
  },
  {
   "cell_type": "code",
   "execution_count": 6,
   "id": "4ee1ec00",
   "metadata": {},
   "outputs": [],
   "source": [
    "# 4. Count how often each total value of T appears\n",
    "total_counts = Counter(totals)\n",
    "n_samples = len(sample_pairs) \n",
    "# total number of samples (= C(12,2) = 66)"
   ]
  },
  {
   "cell_type": "code",
   "execution_count": 7,
   "id": "1531cb3e",
   "metadata": {},
   "outputs": [],
   "source": [
    "# 5. Create a DataFrame for the sampling T distribution\n",
    "dist_df = pd.DataFrame(\n",
    "    [(total, count, count / n_samples)\n",
    "    for total, count in sorted(total_counts.items())],\n",
    "    columns=[\"Total (T)\", \"Frequency\", \"Probability\"]\n",
    "    )"
   ]
  },
  {
   "cell_type": "code",
   "execution_count": 8,
   "id": "98116a1e",
   "metadata": {},
   "outputs": [],
   "source": [
    "# 6. Compute E[T] and Var[T]\n",
    "expected_value = sum(total * (count / n_samples) for total, count in total_counts.items())\n",
    "expected_value_sq = sum((total ** 2) * (count / n_samples) for total, count in total_counts.items())\n",
    "variance = expected_value_sq - expected_value ** 2"
   ]
  },
  {
   "cell_type": "code",
   "execution_count": 9,
   "id": "77e31dcc",
   "metadata": {},
   "outputs": [
    {
     "name": "stdout",
     "output_type": "stream",
     "text": [
      " Total (T)  Frequency  Probability\n",
      "       100          1     0.015152\n",
      "       250         12     0.181818\n",
      "       400         15     0.227273\n",
      "       550          8     0.121212\n",
      "       700         24     0.363636\n",
      "      1000          6     0.090909\n"
     ]
    }
   ],
   "source": [
    "# 7. Display results\n",
    "from IPython.display import display, Markdown\n",
    "print(dist_df.to_string(index=False))"
   ]
  },
  {
   "cell_type": "code",
   "execution_count": 10,
   "id": "b76d266b",
   "metadata": {},
   "outputs": [
    {
     "name": "stdout",
     "output_type": "stream",
     "text": [
      "\n",
      "Expected value E[T]: 550.0\n",
      "Variance Var[T]: 51136.36363636365\n"
     ]
    }
   ],
   "source": [
    "# Print expected value and variance\n",
    "print(f\"\\nExpected value E[T]: {expected_value}\")\n",
    "print(f\"Variance Var[T]: {variance}\")"
   ]
  },
  {
   "cell_type": "code",
   "execution_count": 11,
   "id": "8e051d4b",
   "metadata": {},
   "outputs": [
    {
     "data": {
      "text/markdown": [
       "$$\\begin{aligned}\n",
       "P(T = 100) &= \\frac{1}{66} \\\\\n",
       "P(T = 250) &= \\frac{12}{66} \\\\\n",
       "P(T = 400) &= \\frac{15}{66} \\\\\n",
       "P(T = 550) &= \\frac{8}{66} \\\\\n",
       "P(T = 700) &= \\frac{24}{66} \\\\\n",
       "P(T = 1000) &= \\frac{6}{66} \\\\\n",
       "\\end{aligned}$$"
      ],
      "text/plain": [
       "<IPython.core.display.Markdown object>"
      ]
     },
     "metadata": {},
     "output_type": "display_data"
    }
   ],
   "source": [
    "# 8. Print the PMF in LaTeX format\n",
    "latex_pmf = r\"$$\\begin{aligned}\" + \"\\n\"\n",
    "for total, count in sorted(total_counts.items()):\n",
    "    prob_frac = f\"\\\\frac{{{count}}}{{{n_samples}}}\"\n",
    "    latex_pmf += f\"P(T = {total}) &= {prob_frac} \\\\\\\\\\n\"\n",
    "latex_pmf += r\"\\end{aligned}$$\"\n",
    "\n",
    "display(Markdown(latex_pmf))"
   ]
  }
 ],
 "metadata": {
  "kernelspec": {
   "display_name": "Python 3",
   "language": "python",
   "name": "python3"
  },
  "language_info": {
   "codemirror_mode": {
    "name": "ipython",
    "version": 3
   },
   "file_extension": ".py",
   "mimetype": "text/x-python",
   "name": "python",
   "nbconvert_exporter": "python",
   "pygments_lexer": "ipython3",
   "version": "3.11.11"
  }
 },
 "nbformat": 4,
 "nbformat_minor": 5
}
